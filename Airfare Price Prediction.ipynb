{
 "cells": [
  {
   "cell_type": "markdown",
   "metadata": {},
   "source": [
    "# Airfare Price Prediction Project - Data Science"
   ]
  },
  {
   "cell_type": "markdown",
   "metadata": {},
   "source": [
    "It is important for a traveller to know the fare value of a trip, and as prices of flight ticket change very often it becomes hard for a user to check different websites, and to find different deals. A flight fare prediction model will help inform the travellers when the optimal time to buy their flight tickets, and it will help us understand trends in the airline industry.\n",
    "\n",
    "The route from New York's JFK airport to London's Heathrow airport(LHR) is one of the busiest air routes in the world. I decided to try and help out the passengers who take this route, by trying to figure out what causes the prices to go up or down, and to create a model that'll be able to predict the price given the appropriate information of a certain flight."
   ]
  },
  {
   "cell_type": "markdown",
   "metadata": {},
   "source": [
    "## Data Collection - First Attempt\n",
    "At first, I had in mind to try and create a model that'll tell the traveller when the prices will be lowest for the route based on previous infromation. Though after searching and scanning the internet I came up with no such data, as the airlines do not publicize this information willingly, and any other companies that offer the service, do not do it free of charge. The only other dataset that seemed to give airfares and information about past flights was from the US Bureau of Transportation Statistics, but it had information on domestic flights only, so it too did not offer anything about the JFK-LHR route.\n",
    "After understanding that I'll have to get the information by myself, I started recording flight information and their prices using Amadeus's API, (https://developers.amadeus.com/). I wrote a script to get the information and I ran it once a day for a week."
   ]
  },
  {
   "cell_type": "markdown",
   "metadata": {},
   "source": [
    "### Data Analizing"
   ]
  },
  {
   "cell_type": "markdown",
   "metadata": {},
   "source": [
    "The features that I collected for each flight are as followes:\n",
    "* Airline - the airline carrier of the flight               \n",
    "* IDs - the IDs of the flight legs\n",
    "* Date_of_Journey - the date of departure\n",
    "* Route  - the airport codes for the route\n",
    "* Dep_Time - the departure time from JFK\n",
    "* Arrival_Time - the arrival time at LHR\n",
    "* Duration - the total duration of the flights, including layovers\n",
    "* Total_Stops - total stops in the journey\n",
    "* One_Way - is it a round trip or one way ticket\n",
    "* Last_Ticketing_Date - the last available date for buying the tickets\n",
    "* Cabins - the ticket's cabin, such as economy and business (or cabins if there's more than one leg)\n",
    "* Classes - the airline fare class code, for each leg\n",
    "* Checked_Bags_Included - the number of checked bags allowed \n",
    "* Price - the price of the ticket (target feature)\n",
    "* Date_Taken - the date the information was recorded"
   ]
  },
  {
   "cell_type": "code",
   "execution_count": 1,
   "metadata": {},
   "outputs": [
    {
     "name": "stdout",
     "output_type": "stream",
     "text": [
      "3.7.6 (default, Jan  8 2020, 20:23:39) [MSC v.1916 64 bit (AMD64)]\n",
      "1.0.1\n",
      "0.10.0\n"
     ]
    }
   ],
   "source": [
    "import sys; print(sys.version)\n",
    "import pandas as pd; print (pd.__version__ )\n",
    "import seaborn as sns; print (sns.__version__)\n",
    "import matplotlib.pyplot as plt; \n",
    "import numpy as np"
   ]
  },
  {
   "cell_type": "code",
   "execution_count": 2,
   "metadata": {},
   "outputs": [
    {
     "data": {
      "text/html": [
       "<div>\n",
       "<style scoped>\n",
       "    .dataframe tbody tr th:only-of-type {\n",
       "        vertical-align: middle;\n",
       "    }\n",
       "\n",
       "    .dataframe tbody tr th {\n",
       "        vertical-align: top;\n",
       "    }\n",
       "\n",
       "    .dataframe thead th {\n",
       "        text-align: right;\n",
       "    }\n",
       "</style>\n",
       "<table border=\"1\" class=\"dataframe\">\n",
       "  <thead>\n",
       "    <tr style=\"text-align: right;\">\n",
       "      <th></th>\n",
       "      <th>Airline</th>\n",
       "      <th>IDs</th>\n",
       "      <th>Date_of_Journey</th>\n",
       "      <th>Route</th>\n",
       "      <th>Dep_Time</th>\n",
       "      <th>Arrival_Time</th>\n",
       "      <th>Duration</th>\n",
       "      <th>Total_Stops</th>\n",
       "      <th>One_Way</th>\n",
       "      <th>Last_Ticketing_Date</th>\n",
       "      <th>Cabins</th>\n",
       "      <th>Classes</th>\n",
       "      <th>Checked_Bags_Included</th>\n",
       "      <th>Price</th>\n",
       "      <th>Date_Taken</th>\n",
       "    </tr>\n",
       "  </thead>\n",
       "  <tbody>\n",
       "    <tr>\n",
       "      <th>0</th>\n",
       "      <td>AEROFLOT</td>\n",
       "      <td>181,182</td>\n",
       "      <td>2020-09-24</td>\n",
       "      <td>JFK→SVO→LHR</td>\n",
       "      <td>2020-09-24T14:15:00</td>\n",
       "      <td>2020-09-25T09:50:00</td>\n",
       "      <td>PT14H35M</td>\n",
       "      <td>1</td>\n",
       "      <td>False</td>\n",
       "      <td>2020-09-24</td>\n",
       "      <td>ECONOMY,ECONOMY</td>\n",
       "      <td>R,R</td>\n",
       "      <td>1</td>\n",
       "      <td>340.87</td>\n",
       "      <td>2020-09-24</td>\n",
       "    </tr>\n",
       "    <tr>\n",
       "      <th>1</th>\n",
       "      <td>AEROFLOT</td>\n",
       "      <td>189,190</td>\n",
       "      <td>2020-09-24</td>\n",
       "      <td>JFK→SVO→LHR</td>\n",
       "      <td>2020-09-24T00:55:00</td>\n",
       "      <td>2020-09-25T09:30:00</td>\n",
       "      <td>PT27H35M</td>\n",
       "      <td>1</td>\n",
       "      <td>False</td>\n",
       "      <td>2020-09-24</td>\n",
       "      <td>ECONOMY,ECONOMY</td>\n",
       "      <td>R,R</td>\n",
       "      <td>1</td>\n",
       "      <td>340.87</td>\n",
       "      <td>2020-09-24</td>\n",
       "    </tr>\n",
       "    <tr>\n",
       "      <th>2</th>\n",
       "      <td>AEROFLOT</td>\n",
       "      <td>264,265</td>\n",
       "      <td>2020-09-24</td>\n",
       "      <td>JFK→SVO→LHR</td>\n",
       "      <td>2020-09-24T00:55:00</td>\n",
       "      <td>2020-09-25T09:50:00</td>\n",
       "      <td>PT27H55M</td>\n",
       "      <td>1</td>\n",
       "      <td>False</td>\n",
       "      <td>2020-09-24</td>\n",
       "      <td>ECONOMY,ECONOMY</td>\n",
       "      <td>R,R</td>\n",
       "      <td>1</td>\n",
       "      <td>340.87</td>\n",
       "      <td>2020-09-24</td>\n",
       "    </tr>\n",
       "    <tr>\n",
       "      <th>3</th>\n",
       "      <td>AEROFLOT</td>\n",
       "      <td>171,172</td>\n",
       "      <td>2020-09-24</td>\n",
       "      <td>JFK→SVO→LHR</td>\n",
       "      <td>2020-09-24T00:55:00</td>\n",
       "      <td>2020-09-24T21:25:00</td>\n",
       "      <td>PT15H30M</td>\n",
       "      <td>1</td>\n",
       "      <td>False</td>\n",
       "      <td>2020-09-24</td>\n",
       "      <td>ECONOMY,ECONOMY</td>\n",
       "      <td>R,R</td>\n",
       "      <td>1</td>\n",
       "      <td>340.87</td>\n",
       "      <td>2020-09-24</td>\n",
       "    </tr>\n",
       "    <tr>\n",
       "      <th>4</th>\n",
       "      <td>AEROFLOT</td>\n",
       "      <td>199,200</td>\n",
       "      <td>2020-09-24</td>\n",
       "      <td>JFK→SVO→LHR</td>\n",
       "      <td>2020-09-24T19:20:00</td>\n",
       "      <td>2020-09-25T16:00:00</td>\n",
       "      <td>PT15H40M</td>\n",
       "      <td>1</td>\n",
       "      <td>False</td>\n",
       "      <td>2020-09-24</td>\n",
       "      <td>ECONOMY,ECONOMY</td>\n",
       "      <td>R,R</td>\n",
       "      <td>1</td>\n",
       "      <td>340.87</td>\n",
       "      <td>2020-09-24</td>\n",
       "    </tr>\n",
       "  </tbody>\n",
       "</table>\n",
       "</div>"
      ],
      "text/plain": [
       "    Airline      IDs Date_of_Journey        Route             Dep_Time  \\\n",
       "0  AEROFLOT  181,182      2020-09-24  JFK→SVO→LHR  2020-09-24T14:15:00   \n",
       "1  AEROFLOT  189,190      2020-09-24  JFK→SVO→LHR  2020-09-24T00:55:00   \n",
       "2  AEROFLOT  264,265      2020-09-24  JFK→SVO→LHR  2020-09-24T00:55:00   \n",
       "3  AEROFLOT  171,172      2020-09-24  JFK→SVO→LHR  2020-09-24T00:55:00   \n",
       "4  AEROFLOT  199,200      2020-09-24  JFK→SVO→LHR  2020-09-24T19:20:00   \n",
       "\n",
       "          Arrival_Time  Duration  Total_Stops  One_Way Last_Ticketing_Date  \\\n",
       "0  2020-09-25T09:50:00  PT14H35M            1    False          2020-09-24   \n",
       "1  2020-09-25T09:30:00  PT27H35M            1    False          2020-09-24   \n",
       "2  2020-09-25T09:50:00  PT27H55M            1    False          2020-09-24   \n",
       "3  2020-09-24T21:25:00  PT15H30M            1    False          2020-09-24   \n",
       "4  2020-09-25T16:00:00  PT15H40M            1    False          2020-09-24   \n",
       "\n",
       "            Cabins Classes  Checked_Bags_Included   Price  Date_Taken  \n",
       "0  ECONOMY,ECONOMY     R,R                      1  340.87  2020-09-24  \n",
       "1  ECONOMY,ECONOMY     R,R                      1  340.87  2020-09-24  \n",
       "2  ECONOMY,ECONOMY     R,R                      1  340.87  2020-09-24  \n",
       "3  ECONOMY,ECONOMY     R,R                      1  340.87  2020-09-24  \n",
       "4  ECONOMY,ECONOMY     R,R                      1  340.87  2020-09-24  "
      ]
     },
     "execution_count": 2,
     "metadata": {},
     "output_type": "execute_result"
    }
   ],
   "source": [
    "# we'll load all the data into dataframe and merge them one with the other to get one large data frame. \n",
    "df_flights = pd.read_csv('Airfare1.csv')\n",
    "filename = 'Airfare'\n",
    "ending = '.csv'\n",
    "for i in np.linspace(2,7,6):\n",
    "    df_flights = df_flights.append(pd.read_csv(filename+str(int(i))+ending))\n",
    "\n",
    "df_flights.head()"
   ]
  },
  {
   "cell_type": "markdown",
   "metadata": {},
   "source": [
    "Lets see how many stops these flights have:"
   ]
  },
  {
   "cell_type": "code",
   "execution_count": 3,
   "metadata": {},
   "outputs": [
    {
     "data": {
      "text/plain": [
       "Text(0, 0.5, 'Count of flights')"
      ]
     },
     "execution_count": 3,
     "metadata": {},
     "output_type": "execute_result"
    },
    {
     "data": {
      "image/png": "[encoded data removed]",
      "text/plain": [
       "<Figure size 360x360 with 1 Axes>"
      ]
     },
     "metadata": {
      "needs_background": "light"
     },
     "output_type": "display_data"
    }
   ],
   "source": [
    "plt.figure(figsize = (5 , 5))\n",
    "plt.title('Count of Flights per stops')\n",
    "sns.countplot(x = 'Total_Stops', data = df_flights)\n",
    "plt.xlabel('Stops')\n",
    "plt.ylabel('Count of flights')"
   ]
  },
  {
   "cell_type": "markdown",
   "metadata": {},
   "source": [
    "Let's also see how many of the flights aren't round trips, rather only one way tickets "
   ]
  },
  {
   "cell_type": "code",
   "execution_count": 4,
   "metadata": {},
   "outputs": [
    {
     "name": "stdout",
     "output_type": "stream",
     "text": [
      "number of one way tickets: 0\n"
     ]
    }
   ],
   "source": [
    "print('number of one way tickets:',len(df_flights.where(df_flights['One_Way']==True).dropna()))"
   ]
  },
  {
   "cell_type": "markdown",
   "metadata": {},
   "source": [
    "So the majority of the flights have one stop, but there are also a lot of non-stop flights.\n",
    "Also every single one of these flights is part of a round trip\n",
    "\n",
    "One of the most important features of a flight is its duration and it's given to us in ISO 8601 format(https://en.wikipedia.org/wiki/ISO_8601) and it'll be more useful to work with a single number, so we'll convert the hours to minutes and change the column to be in minutes only."
   ]
  },
  {
   "cell_type": "code",
   "execution_count": 5,
   "metadata": {},
   "outputs": [],
   "source": [
    "def convert_dur_to_mins(dur):\n",
    "    '''\n",
    "    Calculates the number of minutes of a flight duration (in hours and minutes).\n",
    "\n",
    "            Parameters:\n",
    "                    dur (string):  A duration of hours and minutes in the ISO 8601 format [PT--H--M,\n",
    "                                   where the numbers following P represents the number of \n",
    "                                   years/months/weeks/days - irrelevent for us, and the numbers following T\n",
    "                                   represents the number of hours/minutes/seconds]\n",
    "                    \n",
    "            Returns:\n",
    "                    tot (int): the total number of minutes that represent the duration\n",
    "    '''\n",
    "    dur = dur[2:] # get rid of 'PT'\n",
    "    ind_h, ind_m = dur.find('H'), dur.find('M')\n",
    "    hours = dur[:ind_h]\n",
    "    if hours != '' :\n",
    "        hours = int(hours)\n",
    "    else:\n",
    "        hours = 0 \n",
    "        \n",
    "    mins = dur[ind_h+1:ind_m]\n",
    "    if mins != '':\n",
    "        mins = int(mins)\n",
    "    else:\n",
    "        mins = 0 \n",
    "    tot = 60*hours + mins\n",
    "    return tot\n",
    "\n",
    "df_flights['Duration'] = pd.Series([convert_dur_to_mins(dur) for dur in df_flights['Duration']])\n"
   ]
  },
  {
   "cell_type": "code",
   "execution_count": 6,
   "metadata": {},
   "outputs": [
    {
     "data": {
      "image/png": "[encoded data removed]",
      "text/plain": [
       "<Figure size 504x504 with 1 Axes>"
      ]
     },
     "metadata": {
      "needs_background": "light"
     },
     "output_type": "display_data"
    }
   ],
   "source": [
    "%matplotlib inline \n",
    "df_flights.hist(bins=50,column='Duration', figsize=(7,7))\n",
    "plt.xlabel('Duration in minutes')\n",
    "plt.ylabel('No. of flights')\n",
    "plt.show()"
   ]
  },
  {
   "cell_type": "markdown",
   "metadata": {},
   "source": [
    "From the displayed histogram, we can notice a strange occurence. On the left side, there are a more than a few flights that are less than 250 minutes long. According to the data, these flights would cross the atlantic ocean in less than 5 hours. That is quite strange as the normal non-stop flight from JFK to LHR is approximatly 7 hours = 420 minutes. Beyond that, in general the shortest 1-stop flight is about 530 minutes, so all the 1-stop flights that are shorter than that are also unexpexcted. "
   ]
  },
  {
   "cell_type": "code",
   "execution_count": 7,
   "metadata": {},
   "outputs": [
    {
     "name": "stdout",
     "output_type": "stream",
     "text": [
      "count strange flights: 6308\n",
      "count all flights: 34542\n",
      "percentage of strange flights: 18.26 %\n"
     ]
    }
   ],
   "source": [
    "non_stop_flights = df_flights.where(df_flights['Total_Stops'] == 0).dropna()\n",
    "one_stop_flights = df_flights.where(df_flights['Total_Stops'] == 1).dropna()\n",
    "\n",
    "#I'll lower the duration bar by 10min because the 410/530 min durations are only approximate.\n",
    "strange_flights = non_stop_flights.where(non_stop_flights['Duration'] < 410).dropna()\n",
    "strange_flights = strange_flights.append(one_stop_flights.where(one_stop_flights['Duration'] < 520).dropna())\n",
    "\n",
    "print('count strange flights:', len(strange_flights))\n",
    "print('count all flights:', len(df_flights))\n",
    "print('percentage of strange flights:', round(len(strange_flights) / len(df_flights)*100, 2), '%')"
   ]
  },
  {
   "cell_type": "markdown",
   "metadata": {},
   "source": [
    "This is really quite scary... \n",
    "If more than 18% of the flights have bad information about the duration, I'm afraid that the data provided by Amadeus is inaccurate about other features as well, including the prices."
   ]
  },
  {
   "cell_type": "markdown",
   "metadata": {},
   "source": [
    "I came to the conclusion that this is not a good approach for the problem for the following reasons: \n",
    "\n",
    "* A lot of the data provided by Amadeus is bad. I even tried to find some of the flights on booking sites and found the departure times were also wrong. This made me think that other features might be inaccurate which could change the entire model.\n",
    "\n",
    "* All the flights seem to be part of a round trip and the price shown is for the whole trip, but none of the inbound flight information is provided, and that could be just as critical for the price prediction as is the information of the outbound flight.\n"
   ]
  },
  {
   "cell_type": "markdown",
   "metadata": {},
   "source": [
    "## Data Collection - Second Attempt\n",
    "I understood that Amadeus's API was not the way to go, so I went to Skyscanner, and it took me a while to get an API key, but in the end I got my hands on one. So using Skyscanner's API(https://skyscanner.github.io/slate/), I wrote a script to collect flight information for tickets from JFK to LHR, for 1 adult, economy class, with a round trip returning after 7 days. I then wrote a script to take the important information that might have some effect on the price, such as airline, duration, departure and arrival time, and put it all in a csv file. I left out some information that has nothing to do with the price, such as the logo's of the different airlines and what the symbol of the dollar is.\n",
    "\n",
    "I ran the script for the the months of October-December 2020 (93 days in total, as i included  January 1st as well) collecting 106,667 different fares and their appropriate trips,\n",
    "and we'll see what this data gives us."
   ]
  },
  {
   "cell_type": "markdown",
   "metadata": {},
   "source": [
    "### Data Analizing and Preperation"
   ]
  },
  {
   "cell_type": "markdown",
   "metadata": {},
   "source": [
    "The features that I collected from Skyscanner for each flight are as followes:\n",
    "* Out_Airline - airline carrier of the outbound flight\n",
    "* Out_Departure - departure date and time of the outbound flight \n",
    "* Out_Arrival - arrival date and time of the outbound flight  \n",
    "* Out_Duration - outbound flight duration (in minutes) \n",
    "* Out_Route - the route of the outbound flight\n",
    "* In_Airline - airline carrier of the inbound flight\n",
    "* In_Departure -  departure date and time of the inbound flight\n",
    "* In_Arrival - arrival date and time of the inbound flight \n",
    "* In_Duration -inbound flight duration (in minutes)\n",
    "* In_Route - the route of the inbound flight\n",
    "* Out_ID - the id Skyscanner gave to the outbound flight \n",
    "* In_ID - the id Skyscanner gave to the inbound flight\n",
    "* Buying_Url - link for booking the ticket\n",
    "* Price - the total ticket fare in dollars"
   ]
  },
  {
   "cell_type": "code",
   "execution_count": 8,
   "metadata": {},
   "outputs": [
    {
     "data": {
      "text/html": [
       "<div>\n",
       "<style scoped>\n",
       "    .dataframe tbody tr th:only-of-type {\n",
       "        vertical-align: middle;\n",
       "    }\n",
       "\n",
       "    .dataframe tbody tr th {\n",
       "        vertical-align: top;\n",
       "    }\n",
       "\n",
       "    .dataframe thead th {\n",
       "        text-align: right;\n",
       "    }\n",
       "</style>\n",
       "<table border=\"1\" class=\"dataframe\">\n",
       "  <thead>\n",
       "    <tr style=\"text-align: right;\">\n",
       "      <th></th>\n",
       "      <th>Out_Airline</th>\n",
       "      <th>Out_Departure</th>\n",
       "      <th>Out_Arrival</th>\n",
       "      <th>Out_Duration</th>\n",
       "      <th>Out_Route</th>\n",
       "      <th>In_Airline</th>\n",
       "      <th>In_Departure</th>\n",
       "      <th>In_Arrival</th>\n",
       "      <th>In_Duration</th>\n",
       "      <th>In_Route</th>\n",
       "      <th>Out_ID</th>\n",
       "      <th>In_ID</th>\n",
       "      <th>Buying_Url</th>\n",
       "      <th>Price</th>\n",
       "    </tr>\n",
       "  </thead>\n",
       "  <tbody>\n",
       "    <tr>\n",
       "      <th>0</th>\n",
       "      <td>British Airways</td>\n",
       "      <td>2020-10-01T21:30:00</td>\n",
       "      <td>2020-10-02T09:35:00</td>\n",
       "      <td>425</td>\n",
       "      <td>JFK→LHR</td>\n",
       "      <td>Virgin Atlantic</td>\n",
       "      <td>2020-10-08T20:15:00</td>\n",
       "      <td>2020-10-08T23:10:00</td>\n",
       "      <td>475</td>\n",
       "      <td>LHR→JFK</td>\n",
       "      <td>12712-2010012130--32222-0-13554-2010020935</td>\n",
       "      <td>13554-2010082015--32132-0-12712-2010082310</td>\n",
       "      <td>https://partners.api.skyscanner.net/apiservice...</td>\n",
       "      <td>1443.20</td>\n",
       "    </tr>\n",
       "    <tr>\n",
       "      <th>1</th>\n",
       "      <td>Air France</td>\n",
       "      <td>2020-10-01T19:30:00</td>\n",
       "      <td>2020-10-02T10:40:00</td>\n",
       "      <td>610</td>\n",
       "      <td>JFK→CDG→LHR</td>\n",
       "      <td>Delta</td>\n",
       "      <td>2020-10-08T10:20:00</td>\n",
       "      <td>2020-10-08T13:30:00</td>\n",
       "      <td>490</td>\n",
       "      <td>LHR→JFK</td>\n",
       "      <td>12712-2010011930--32677-1-13554-2010021040</td>\n",
       "      <td>13554-2010081020--32132-0-12712-2010081330</td>\n",
       "      <td>https://partners.api.skyscanner.net/apiservice...</td>\n",
       "      <td>1248.80</td>\n",
       "    </tr>\n",
       "    <tr>\n",
       "      <th>2</th>\n",
       "      <td>British Airways</td>\n",
       "      <td>2020-10-01T18:10:00</td>\n",
       "      <td>2020-10-02T06:10:00</td>\n",
       "      <td>420</td>\n",
       "      <td>JFK→LHR</td>\n",
       "      <td>British Airways</td>\n",
       "      <td>2020-10-08T09:30:00</td>\n",
       "      <td>2020-10-08T16:00:00</td>\n",
       "      <td>690</td>\n",
       "      <td>LHR→DUB→JFK</td>\n",
       "      <td>12712-2010011810--32480-0-13554-2010020610</td>\n",
       "      <td>13554-2010080930--32480-1-12712-2010081600</td>\n",
       "      <td>https://partners.api.skyscanner.net/apiservice...</td>\n",
       "      <td>1337.17</td>\n",
       "    </tr>\n",
       "    <tr>\n",
       "      <th>3</th>\n",
       "      <td>Delta</td>\n",
       "      <td>2020-10-01T08:30:00</td>\n",
       "      <td>2020-10-02T08:25:00</td>\n",
       "      <td>1135</td>\n",
       "      <td>JFK→ATL→LHR</td>\n",
       "      <td>Delta</td>\n",
       "      <td>2020-10-08T10:20:00</td>\n",
       "      <td>2020-10-08T13:30:00</td>\n",
       "      <td>490</td>\n",
       "      <td>LHR→JFK</td>\n",
       "      <td>12712-2010010830--31697-1-13554-2010020825</td>\n",
       "      <td>13554-2010081020--31697-0-12712-2010081330</td>\n",
       "      <td>https://partners.api.skyscanner.net/apiservice...</td>\n",
       "      <td>1234.25</td>\n",
       "    </tr>\n",
       "    <tr>\n",
       "      <th>4</th>\n",
       "      <td>British Airways</td>\n",
       "      <td>2020-10-01T21:30:00</td>\n",
       "      <td>2020-10-02T09:35:00</td>\n",
       "      <td>425</td>\n",
       "      <td>JFK→LHR</td>\n",
       "      <td>British Airways</td>\n",
       "      <td>2020-10-08T10:45:00</td>\n",
       "      <td>2020-10-08T13:35:00</td>\n",
       "      <td>470</td>\n",
       "      <td>LHR→JFK</td>\n",
       "      <td>12712-2010012130--32317-0-13554-2010020935</td>\n",
       "      <td>13554-2010081045--32222-0-12712-2010081335</td>\n",
       "      <td>https://partners.api.skyscanner.net/apiservice...</td>\n",
       "      <td>1281.00</td>\n",
       "    </tr>\n",
       "  </tbody>\n",
       "</table>\n",
       "</div>"
      ],
      "text/plain": [
       "       Out_Airline        Out_Departure          Out_Arrival  Out_Duration  \\\n",
       "0  British Airways  2020-10-01T21:30:00  2020-10-02T09:35:00           425   \n",
       "1       Air France  2020-10-01T19:30:00  2020-10-02T10:40:00           610   \n",
       "2  British Airways  2020-10-01T18:10:00  2020-10-02T06:10:00           420   \n",
       "3            Delta  2020-10-01T08:30:00  2020-10-02T08:25:00          1135   \n",
       "4  British Airways  2020-10-01T21:30:00  2020-10-02T09:35:00           425   \n",
       "\n",
       "     Out_Route       In_Airline         In_Departure           In_Arrival  \\\n",
       "0      JFK→LHR  Virgin Atlantic  2020-10-08T20:15:00  2020-10-08T23:10:00   \n",
       "1  JFK→CDG→LHR            Delta  2020-10-08T10:20:00  2020-10-08T13:30:00   \n",
       "2      JFK→LHR  British Airways  2020-10-08T09:30:00  2020-10-08T16:00:00   \n",
       "3  JFK→ATL→LHR            Delta  2020-10-08T10:20:00  2020-10-08T13:30:00   \n",
       "4      JFK→LHR  British Airways  2020-10-08T10:45:00  2020-10-08T13:35:00   \n",
       "\n",
       "   In_Duration     In_Route                                      Out_ID  \\\n",
       "0          475      LHR→JFK  12712-2010012130--32222-0-13554-2010020935   \n",
       "1          490      LHR→JFK  12712-2010011930--32677-1-13554-2010021040   \n",
       "2          690  LHR→DUB→JFK  12712-2010011810--32480-0-13554-2010020610   \n",
       "3          490      LHR→JFK  12712-2010010830--31697-1-13554-2010020825   \n",
       "4          470      LHR→JFK  12712-2010012130--32317-0-13554-2010020935   \n",
       "\n",
       "                                        In_ID  \\\n",
       "0  13554-2010082015--32132-0-12712-2010082310   \n",
       "1  13554-2010081020--32132-0-12712-2010081330   \n",
       "2  13554-2010080930--32480-1-12712-2010081600   \n",
       "3  13554-2010081020--31697-0-12712-2010081330   \n",
       "4  13554-2010081045--32222-0-12712-2010081335   \n",
       "\n",
       "                                          Buying_Url    Price  \n",
       "0  https://partners.api.skyscanner.net/apiservice...  1443.20  \n",
       "1  https://partners.api.skyscanner.net/apiservice...  1248.80  \n",
       "2  https://partners.api.skyscanner.net/apiservice...  1337.17  \n",
       "3  https://partners.api.skyscanner.net/apiservice...  1234.25  \n",
       "4  https://partners.api.skyscanner.net/apiservice...  1281.00  "
      ]
     },
     "execution_count": 8,
     "metadata": {},
     "output_type": "execute_result"
    }
   ],
   "source": [
    "df_flights = pd.read_csv('AirFare_Skyscanner.csv')\n",
    "df_flights.head()"
   ]
  },
  {
   "cell_type": "markdown",
   "metadata": {},
   "source": [
    "#### Check for Missing Values or Duplicates "
   ]
  },
  {
   "cell_type": "code",
   "execution_count": 9,
   "metadata": {},
   "outputs": [
    {
     "name": "stdout",
     "output_type": "stream",
     "text": [
      "Total duplicate rows except first occurrence based on all columns are : 0\n"
     ]
    }
   ],
   "source": [
    "duplicate_rows = df_flights[df_flights.duplicated()]\n",
    "print(\"Total duplicate rows except first occurrence based on all columns are :\", len(duplicate_rows))\n"
   ]
  },
  {
   "cell_type": "code",
   "execution_count": 10,
   "metadata": {},
   "outputs": [
    {
     "data": {
      "text/plain": [
       "Out_Airline      0\n",
       "Out_Departure    0\n",
       "Out_Arrival      0\n",
       "Out_Duration     0\n",
       "Out_Route        0\n",
       "In_Airline       0\n",
       "In_Departure     0\n",
       "In_Arrival       0\n",
       "In_Duration      0\n",
       "In_Route         0\n",
       "Out_ID           0\n",
       "In_ID            0\n",
       "Buying_Url       0\n",
       "Price            0\n",
       "dtype: int64"
      ]
     },
     "execution_count": 10,
     "metadata": {},
     "output_type": "execute_result"
    }
   ],
   "source": [
    "df_flights.isnull().sum()"
   ]
  },
  {
   "cell_type": "code",
   "execution_count": 11,
   "metadata": {},
   "outputs": [
    {
     "name": "stdout",
     "output_type": "stream",
     "text": [
      "<class 'pandas.core.frame.DataFrame'>\n",
      "RangeIndex: 106667 entries, 0 to 106666\n",
      "Data columns (total 14 columns):\n",
      " #   Column         Non-Null Count   Dtype  \n",
      "---  ------         --------------   -----  \n",
      " 0   Out_Airline    106667 non-null  object \n",
      " 1   Out_Departure  106667 non-null  object \n",
      " 2   Out_Arrival    106667 non-null  object \n",
      " 3   Out_Duration   106667 non-null  int64  \n",
      " 4   Out_Route      106667 non-null  object \n",
      " 5   In_Airline     106667 non-null  object \n",
      " 6   In_Departure   106667 non-null  object \n",
      " 7   In_Arrival     106667 non-null  object \n",
      " 8   In_Duration    106667 non-null  int64  \n",
      " 9   In_Route       106667 non-null  object \n",
      " 10  Out_ID         106667 non-null  object \n",
      " 11  In_ID          106667 non-null  object \n",
      " 12  Buying_Url     106667 non-null  object \n",
      " 13  Price          106667 non-null  float64\n",
      "dtypes: float64(1), int64(2), object(11)\n",
      "memory usage: 11.4+ MB\n"
     ]
    }
   ],
   "source": [
    "df_flights.info()"
   ]
  },
  {
   "cell_type": "markdown",
   "metadata": {},
   "source": [
    "#### Creating the Test Set  "
   ]
  },
  {
   "cell_type": "markdown",
   "metadata": {},
   "source": [
    "Since we're interested in creating a good model, we'll have to see if it really is good by testing it on different data. Therefore we'll create a test set by setting aside 20% of the data from our dataframe.\n",
    "It's good to have a stable train/test split even after the dataset gets updated (if I end up updating it in the future), so I'll be using the instance’s identifier to decide whether or not it should go in the test set.\n",
    "Updates therefore need to be appended to the end(!) of the dataset."
   ]
  },
  {
   "cell_type": "code",
   "execution_count": 12,
   "metadata": {},
   "outputs": [
    {
     "name": "stdout",
     "output_type": "stream",
     "text": [
      "training set size: 85333 \n",
      "test set size:  21334\n"
     ]
    }
   ],
   "source": [
    "#  we'll compute a hash of each instance’s identifier and put that instance in the test set if the\n",
    "# hash is lower than or equal to 20% of the maximum hash value\n",
    "from zlib import crc32\n",
    "def test_set_check(identifier, test_ratio):\n",
    "    \n",
    "    '''\n",
    "    Calculates the hash value for the given identifier, and returns whether it falls \n",
    "    within the test set, according to the given ratio of the test set.\n",
    "\n",
    "            Parameters:\n",
    "                    identifier (int):  an object identifier\n",
    "                    \n",
    "                    test_ratio (float):  the ratio of the test set to the original set  \n",
    "                    \n",
    "            Returns:\n",
    "                    True if identifier belongs to the test set\n",
    "    '''\n",
    "    return crc32(np.int64(identifier)) & 0xffffffff < test_ratio * 2**32\n",
    "\n",
    "def split_train_test_by_id(data, test_ratio, id_column):\n",
    "    '''\n",
    "    Splits the given data set into two sets with the ratio given.\n",
    "            Parameters:\n",
    "                    data (dataframe):  the data set to split\n",
    "                    \n",
    "                    test_ratio (float):  the ratio of the test set to the original set  \n",
    "                    \n",
    "                    id_column (string): the name if the identifier column in the data set\n",
    "                    \n",
    "            Returns:\n",
    "                    Two dataframes that consist of the original one, while the second set holds up to\n",
    "                    the given ratio, and the first completes it.\n",
    "    '''\n",
    "    ids = data[id_column]\n",
    "    in_test_set = ids.apply(lambda id_: test_set_check(id_, test_ratio))\n",
    "    return data.loc[~in_test_set], data.loc[in_test_set]\n",
    "\n",
    " # add an `index` column\n",
    "fares_with_id = df_flights.reset_index()\n",
    "train_set, test_set = split_train_test_by_id(fares_with_id, 0.2, \"index\")\n",
    "print('training set size:', len(train_set), '\\ntest set size: ',len(test_set))"
   ]
  },
  {
   "cell_type": "markdown",
   "metadata": {},
   "source": [
    "## Feature Extraction "
   ]
  },
  {
   "cell_type": "markdown",
   "metadata": {},
   "source": [
    "We'd prefer having features that'll help us predict the price. We'll use the dates to find out on which month and day the flight takes place, and whether it was on a weekend and which day of the week it's on, as these could definitly help us figure out what the price is.\n",
    "\n",
    "Also we'll categorize the times to be morning, afternoon, evening, or night flight.\n"
   ]
  },
  {
   "cell_type": "code",
   "execution_count": 13,
   "metadata": {},
   "outputs": [],
   "source": [
    "def departtime(x):\n",
    "    tt = (int)(x.split(':')[0])\n",
    "    if(tt >= 16 and tt < 21):\n",
    "        x ='Evening'\n",
    "    elif(tt >= 21 or tt < 5):\n",
    "        x ='Night'\n",
    "    elif(tt >= 5 and tt < 11):\n",
    "        x ='Morning'\n",
    "    elif(tt >= 11 and tt < 16):\n",
    "        x ='Afternoon'\n",
    "    return x\n",
    "\n",
    "def add_day_time(df):\n",
    "        out_hours = []\n",
    "        for dep in df['Out_Departure']:\n",
    "            out_hours.append(dep[11:13])\n",
    "        df.insert(6, 'Out_Time',  list(pd.Series(out_hours).apply(departtime)))\n",
    "\n",
    "        in_hours = []\n",
    "        for dep in df['In_Departure']:\n",
    "            in_hours.append(dep[11:13])\n",
    "        df.insert(12, 'In_Time',  list(pd.Series(in_hours).apply(departtime)))\n",
    "        return df\n",
    "    \n",
    "train_set = add_day_time(train_set)\n",
    "test_set = add_day_time(test_set)\n"
   ]
  },
  {
   "cell_type": "code",
   "execution_count": 14,
   "metadata": {},
   "outputs": [
    {
     "data": {
      "text/plain": [
       "Text(0.5, 0, 'Inbound Flight Time')"
      ]
     },
     "execution_count": 14,
     "metadata": {},
     "output_type": "execute_result"
    },
    {
     "data": {
      "image/png": "[encoded data removed]",
      "text/plain": [
       "<Figure size 720x360 with 2 Axes>"
      ]
     },
     "metadata": {
      "needs_background": "light"
     },
     "output_type": "display_data"
    }
   ],
   "source": [
    "fig, ax = plt.subplots(figsize=(10,5), ncols=2, nrows=1)\n",
    "plt.suptitle(\"Count Plots for Flight Times\", y = 1, fontsize=20)\n",
    "\n",
    "sns.countplot(x = 'Out_Time', data = train_set, ax=ax[0],order = train_set['Out_Time'].value_counts().index)\n",
    "sns.countplot(x = 'In_Time', data = train_set,order = train_set['Out_Time'].value_counts().index)\n",
    "\n",
    "ax[0].set_ylabel('No. of flights')\n",
    "\n",
    "ax[0].set_xlabel('Outbound Flight Time',fontsize=15)\n",
    "ax[1].set_xlabel('Inbound Flight Time',fontsize=15)"
   ]
  },
  {
   "cell_type": "code",
   "execution_count": 15,
   "metadata": {},
   "outputs": [],
   "source": [
    "def get_as_date_format(date_as_str):\n",
    "    return pd.to_datetime(date_as_str, format = '%Y/%m/%d')\n",
    "\n",
    "def add_outbound_features(df):\n",
    "    out_date = []\n",
    "    for dep in df['Out_Departure']:\n",
    "        out_date.append(dep[:10])\n",
    "\n",
    "    out_date = (pd.Series(out_date)).apply(get_as_date_format)\n",
    "\n",
    "    df.insert(3,'Out_Is_Weekend',list((out_date.dt.dayofweek// 5 == 1).astype(int)))\n",
    "    df.insert(3,'Out_Day_Of_Week', list(out_date.dt.day_name()))\n",
    "    df.insert(3,'Out_Day_Of_Month', list(out_date.dt.day))\n",
    "    df.insert(3,'Out_Month', list(out_date.dt.month))\n",
    "    return df\n",
    "\n",
    "def add_inbound_features(df):\n",
    "    in_date = []\n",
    "    for dep in df['In_Departure']:\n",
    "        in_date.append(dep[:10])\n",
    "\n",
    "    in_date = (pd.Series(in_date)).apply(get_as_date_format)\n",
    "\n",
    "    df.insert(13,'In_Is_Weekend',list((in_date.dt.dayofweek// 5 == 1).astype(int)))\n",
    "    df.insert(13,'In_Day_Of_Week', list(in_date.dt.day_name()))\n",
    "    df.insert(13,'In_Day_Of_Month', list(in_date.dt.day))\n",
    "    df.insert(13,'In_Month', list(in_date.dt.month))\n",
    "    return df\n"
   ]
  },
  {
   "cell_type": "code",
   "execution_count": 16,
   "metadata": {},
   "outputs": [],
   "source": [
    "train_set = add_outbound_features(train_set)\n",
    "test_set = add_outbound_features(test_set)\n",
    "\n",
    "train_set = add_inbound_features(train_set)\n",
    "test_set = add_inbound_features(test_set)"
   ]
  },
  {
   "cell_type": "markdown",
   "metadata": {},
   "source": [
    "With the new features, we'll view some of their different aspects:"
   ]
  },
  {
   "cell_type": "code",
   "execution_count": 17,
   "metadata": {
    "scrolled": true
   },
   "outputs": [
    {
     "data": {
      "image/png": "[encoded data removed]",
      "text/plain": [
       "<Figure size 576x576 with 1 Axes>"
      ]
     },
     "metadata": {
      "needs_background": "light"
     },
     "output_type": "display_data"
    }
   ],
   "source": [
    "plt.figure(figsize = (8, 8))\n",
    "plt.title('Count of Flights Month Wise', fontsize = 25)\n",
    "\n",
    "ax = sns.countplot(x = 'Out_Month', data = train_set)\n",
    "\n",
    "plt.xlabel('Month', fontsize = 20)\n",
    "plt.ylabel('Count of Flights', fontsize = 20)\n",
    "\n",
    "for p in ax.patches:\n",
    "    ax.annotate(int(p.get_height()), (p.get_x()+0.25, p.get_height()+1), va='bottom',\n",
    "                    color= 'black')"
   ]
  },
  {
   "cell_type": "code",
   "execution_count": 18,
   "metadata": {},
   "outputs": [
    {
     "data": {
      "text/html": [
       "<div>\n",
       "<style scoped>\n",
       "    .dataframe tbody tr th:only-of-type {\n",
       "        vertical-align: middle;\n",
       "    }\n",
       "\n",
       "    .dataframe tbody tr th {\n",
       "        vertical-align: top;\n",
       "    }\n",
       "\n",
       "    .dataframe thead th {\n",
       "        text-align: right;\n",
       "    }\n",
       "</style>\n",
       "<table border=\"1\" class=\"dataframe\">\n",
       "  <thead>\n",
       "    <tr style=\"text-align: right;\">\n",
       "      <th></th>\n",
       "      <th>Price Mean</th>\n",
       "    </tr>\n",
       "    <tr>\n",
       "      <th>Out_Month</th>\n",
       "      <th></th>\n",
       "    </tr>\n",
       "  </thead>\n",
       "  <tbody>\n",
       "    <tr>\n",
       "      <th>1</th>\n",
       "      <td>974.456090</td>\n",
       "    </tr>\n",
       "    <tr>\n",
       "      <th>10</th>\n",
       "      <td>1411.197396</td>\n",
       "    </tr>\n",
       "    <tr>\n",
       "      <th>11</th>\n",
       "      <td>827.108075</td>\n",
       "    </tr>\n",
       "    <tr>\n",
       "      <th>12</th>\n",
       "      <td>929.145171</td>\n",
       "    </tr>\n",
       "  </tbody>\n",
       "</table>\n",
       "</div>"
      ],
      "text/plain": [
       "            Price Mean\n",
       "Out_Month             \n",
       "1           974.456090\n",
       "10         1411.197396\n",
       "11          827.108075\n",
       "12          929.145171"
      ]
     },
     "execution_count": 18,
     "metadata": {},
     "output_type": "execute_result"
    }
   ],
   "source": [
    "train_set.groupby(['Out_Month']).mean().loc[:, ['Price']].rename(columns={'Price': 'Price Mean'})"
   ]
  },
  {
   "cell_type": "code",
   "execution_count": 19,
   "metadata": {},
   "outputs": [
    {
     "data": {
      "text/html": [
       "<div>\n",
       "<style scoped>\n",
       "    .dataframe tbody tr th:only-of-type {\n",
       "        vertical-align: middle;\n",
       "    }\n",
       "\n",
       "    .dataframe tbody tr th {\n",
       "        vertical-align: top;\n",
       "    }\n",
       "\n",
       "    .dataframe thead th {\n",
       "        text-align: right;\n",
       "    }\n",
       "</style>\n",
       "<table border=\"1\" class=\"dataframe\">\n",
       "  <thead>\n",
       "    <tr style=\"text-align: right;\">\n",
       "      <th></th>\n",
       "      <th>Price Mean</th>\n",
       "    </tr>\n",
       "    <tr>\n",
       "      <th>Out_Day_Of_Week</th>\n",
       "      <th></th>\n",
       "    </tr>\n",
       "  </thead>\n",
       "  <tbody>\n",
       "    <tr>\n",
       "      <th>Monday</th>\n",
       "      <td>972.465366</td>\n",
       "    </tr>\n",
       "    <tr>\n",
       "      <th>Tuesday</th>\n",
       "      <td>969.025647</td>\n",
       "    </tr>\n",
       "    <tr>\n",
       "      <th>Wednesday</th>\n",
       "      <td>930.313891</td>\n",
       "    </tr>\n",
       "    <tr>\n",
       "      <th>Thursday</th>\n",
       "      <td>1097.297041</td>\n",
       "    </tr>\n",
       "    <tr>\n",
       "      <th>Friday</th>\n",
       "      <td>1042.700043</td>\n",
       "    </tr>\n",
       "    <tr>\n",
       "      <th>Saturday</th>\n",
       "      <td>1100.218328</td>\n",
       "    </tr>\n",
       "    <tr>\n",
       "      <th>Sunday</th>\n",
       "      <td>980.277329</td>\n",
       "    </tr>\n",
       "  </tbody>\n",
       "</table>\n",
       "</div>"
      ],
      "text/plain": [
       "                  Price Mean\n",
       "Out_Day_Of_Week             \n",
       "Monday            972.465366\n",
       "Tuesday           969.025647\n",
       "Wednesday         930.313891\n",
       "Thursday         1097.297041\n",
       "Friday           1042.700043\n",
       "Saturday         1100.218328\n",
       "Sunday            980.277329"
      ]
     },
     "execution_count": 19,
     "metadata": {},
     "output_type": "execute_result"
    }
   ],
   "source": [
    "ordered_days = [ 'Monday', 'Tuesday', 'Wednesday', 'Thursday', 'Friday', 'Saturday', 'Sunday']\n",
    "\n",
    "train_set.groupby(['Out_Day_Of_Week']).mean().loc[:, ['Price']].rename(columns={'Price': 'Price Mean'}).reindex(ordered_days) "
   ]
  },
  {
   "cell_type": "code",
   "execution_count": 20,
   "metadata": {},
   "outputs": [
    {
     "data": {
      "text/html": [
       "<div>\n",
       "<style scoped>\n",
       "    .dataframe tbody tr th:only-of-type {\n",
       "        vertical-align: middle;\n",
       "    }\n",
       "\n",
       "    .dataframe tbody tr th {\n",
       "        vertical-align: top;\n",
       "    }\n",
       "\n",
       "    .dataframe thead th {\n",
       "        text-align: right;\n",
       "    }\n",
       "</style>\n",
       "<table border=\"1\" class=\"dataframe\">\n",
       "  <thead>\n",
       "    <tr style=\"text-align: right;\">\n",
       "      <th></th>\n",
       "      <th>Price Mean</th>\n",
       "    </tr>\n",
       "    <tr>\n",
       "      <th>Out_Is_Weekend</th>\n",
       "      <th></th>\n",
       "    </tr>\n",
       "  </thead>\n",
       "  <tbody>\n",
       "    <tr>\n",
       "      <th>0</th>\n",
       "      <td>1002.658793</td>\n",
       "    </tr>\n",
       "    <tr>\n",
       "      <th>1</th>\n",
       "      <td>1039.310672</td>\n",
       "    </tr>\n",
       "  </tbody>\n",
       "</table>\n",
       "</div>"
      ],
      "text/plain": [
       "                 Price Mean\n",
       "Out_Is_Weekend             \n",
       "0               1002.658793\n",
       "1               1039.310672"
      ]
     },
     "execution_count": 20,
     "metadata": {},
     "output_type": "execute_result"
    }
   ],
   "source": [
    "train_set.groupby(['Out_Is_Weekend']).mean().loc[:, ['Price']].rename(columns={'Price': 'Price Mean'})"
   ]
  },
  {
   "cell_type": "markdown",
   "metadata": {},
   "source": [
    "#### Remove Unnecessary Columns\n",
    "In response to extracting features, we can remove the columns that have now become futile and no longer grant any benefit.     "
   ]
  },
  {
   "cell_type": "code",
   "execution_count": 21,
   "metadata": {},
   "outputs": [],
   "source": [
    "def drop_dep_arr_dates(df):\n",
    "    return df.drop(columns=['In_Departure','Out_Departure','In_Arrival','Out_Arrival'])\n",
    "\n",
    "train_set =  drop_dep_arr_dates(train_set)\n",
    "test_set =  drop_dep_arr_dates(test_set)"
   ]
  },
  {
   "cell_type": "markdown",
   "metadata": {},
   "source": [
    "We'll take another look at the top five rows of our training set: "
   ]
  },
  {
   "cell_type": "code",
   "execution_count": 22,
   "metadata": {},
   "outputs": [
    {
     "data": {
      "text/html": [
       "<div>\n",
       "<style scoped>\n",
       "    .dataframe tbody tr th:only-of-type {\n",
       "        vertical-align: middle;\n",
       "    }\n",
       "\n",
       "    .dataframe tbody tr th {\n",
       "        vertical-align: top;\n",
       "    }\n",
       "\n",
       "    .dataframe thead th {\n",
       "        text-align: right;\n",
       "    }\n",
       "</style>\n",
       "<table border=\"1\" class=\"dataframe\">\n",
       "  <thead>\n",
       "    <tr style=\"text-align: right;\">\n",
       "      <th></th>\n",
       "      <th>index</th>\n",
       "      <th>Out_Airline</th>\n",
       "      <th>Out_Month</th>\n",
       "      <th>Out_Day_Of_Month</th>\n",
       "      <th>Out_Day_Of_Week</th>\n",
       "      <th>Out_Is_Weekend</th>\n",
       "      <th>Out_Duration</th>\n",
       "      <th>Out_Route</th>\n",
       "      <th>Out_Time</th>\n",
       "      <th>In_Airline</th>\n",
       "      <th>...</th>\n",
       "      <th>In_Day_Of_Month</th>\n",
       "      <th>In_Day_Of_Week</th>\n",
       "      <th>In_Is_Weekend</th>\n",
       "      <th>In_Duration</th>\n",
       "      <th>In_Route</th>\n",
       "      <th>In_Time</th>\n",
       "      <th>Out_ID</th>\n",
       "      <th>In_ID</th>\n",
       "      <th>Buying_Url</th>\n",
       "      <th>Price</th>\n",
       "    </tr>\n",
       "  </thead>\n",
       "  <tbody>\n",
       "    <tr>\n",
       "      <th>0</th>\n",
       "      <td>0</td>\n",
       "      <td>British Airways</td>\n",
       "      <td>10</td>\n",
       "      <td>1</td>\n",
       "      <td>Thursday</td>\n",
       "      <td>0</td>\n",
       "      <td>425</td>\n",
       "      <td>JFK→LHR</td>\n",
       "      <td>Night</td>\n",
       "      <td>Virgin Atlantic</td>\n",
       "      <td>...</td>\n",
       "      <td>8</td>\n",
       "      <td>Thursday</td>\n",
       "      <td>0</td>\n",
       "      <td>475</td>\n",
       "      <td>LHR→JFK</td>\n",
       "      <td>Evening</td>\n",
       "      <td>12712-2010012130--32222-0-13554-2010020935</td>\n",
       "      <td>13554-2010082015--32132-0-12712-2010082310</td>\n",
       "      <td>https://partners.api.skyscanner.net/apiservice...</td>\n",
       "      <td>1443.20</td>\n",
       "    </tr>\n",
       "    <tr>\n",
       "      <th>1</th>\n",
       "      <td>1</td>\n",
       "      <td>Air France</td>\n",
       "      <td>10</td>\n",
       "      <td>1</td>\n",
       "      <td>Thursday</td>\n",
       "      <td>0</td>\n",
       "      <td>610</td>\n",
       "      <td>JFK→CDG→LHR</td>\n",
       "      <td>Evening</td>\n",
       "      <td>Delta</td>\n",
       "      <td>...</td>\n",
       "      <td>8</td>\n",
       "      <td>Thursday</td>\n",
       "      <td>0</td>\n",
       "      <td>490</td>\n",
       "      <td>LHR→JFK</td>\n",
       "      <td>Morning</td>\n",
       "      <td>12712-2010011930--32677-1-13554-2010021040</td>\n",
       "      <td>13554-2010081020--32132-0-12712-2010081330</td>\n",
       "      <td>https://partners.api.skyscanner.net/apiservice...</td>\n",
       "      <td>1248.80</td>\n",
       "    </tr>\n",
       "    <tr>\n",
       "      <th>3</th>\n",
       "      <td>3</td>\n",
       "      <td>Delta</td>\n",
       "      <td>10</td>\n",
       "      <td>1</td>\n",
       "      <td>Thursday</td>\n",
       "      <td>0</td>\n",
       "      <td>1135</td>\n",
       "      <td>JFK→ATL→LHR</td>\n",
       "      <td>Morning</td>\n",
       "      <td>Delta</td>\n",
       "      <td>...</td>\n",
       "      <td>8</td>\n",
       "      <td>Thursday</td>\n",
       "      <td>0</td>\n",
       "      <td>490</td>\n",
       "      <td>LHR→JFK</td>\n",
       "      <td>Morning</td>\n",
       "      <td>12712-2010010830--31697-1-13554-2010020825</td>\n",
       "      <td>13554-2010081020--31697-0-12712-2010081330</td>\n",
       "      <td>https://partners.api.skyscanner.net/apiservice...</td>\n",
       "      <td>1234.25</td>\n",
       "    </tr>\n",
       "    <tr>\n",
       "      <th>4</th>\n",
       "      <td>4</td>\n",
       "      <td>British Airways</td>\n",
       "      <td>10</td>\n",
       "      <td>1</td>\n",
       "      <td>Thursday</td>\n",
       "      <td>0</td>\n",
       "      <td>425</td>\n",
       "      <td>JFK→LHR</td>\n",
       "      <td>Night</td>\n",
       "      <td>British Airways</td>\n",
       "      <td>...</td>\n",
       "      <td>8</td>\n",
       "      <td>Thursday</td>\n",
       "      <td>0</td>\n",
       "      <td>470</td>\n",
       "      <td>LHR→JFK</td>\n",
       "      <td>Morning</td>\n",
       "      <td>12712-2010012130--32317-0-13554-2010020935</td>\n",
       "      <td>13554-2010081045--32222-0-12712-2010081335</td>\n",
       "      <td>https://partners.api.skyscanner.net/apiservice...</td>\n",
       "      <td>1281.00</td>\n",
       "    </tr>\n",
       "    <tr>\n",
       "      <th>6</th>\n",
       "      <td>6</td>\n",
       "      <td>Delta</td>\n",
       "      <td>10</td>\n",
       "      <td>1</td>\n",
       "      <td>Thursday</td>\n",
       "      <td>0</td>\n",
       "      <td>745</td>\n",
       "      <td>JFK→ATL→LHR</td>\n",
       "      <td>Afternoon</td>\n",
       "      <td>Delta</td>\n",
       "      <td>...</td>\n",
       "      <td>8</td>\n",
       "      <td>Thursday</td>\n",
       "      <td>0</td>\n",
       "      <td>490</td>\n",
       "      <td>LHR→JFK</td>\n",
       "      <td>Morning</td>\n",
       "      <td>12712-2010011500--31697-1-13554-2010020825</td>\n",
       "      <td>13554-2010081020--31697-0-12712-2010081330</td>\n",
       "      <td>https://partners.api.skyscanner.net/apiservice...</td>\n",
       "      <td>1234.25</td>\n",
       "    </tr>\n",
       "  </tbody>\n",
       "</table>\n",
       "<p>5 rows × 21 columns</p>\n",
       "</div>"
      ],
      "text/plain": [
       "   index      Out_Airline  Out_Month  Out_Day_Of_Month Out_Day_Of_Week  \\\n",
       "0      0  British Airways         10                 1        Thursday   \n",
       "1      1       Air France         10                 1        Thursday   \n",
       "3      3            Delta         10                 1        Thursday   \n",
       "4      4  British Airways         10                 1        Thursday   \n",
       "6      6            Delta         10                 1        Thursday   \n",
       "\n",
       "   Out_Is_Weekend  Out_Duration    Out_Route   Out_Time       In_Airline  ...  \\\n",
       "0               0           425      JFK→LHR      Night  Virgin Atlantic  ...   \n",
       "1               0           610  JFK→CDG→LHR    Evening            Delta  ...   \n",
       "3               0          1135  JFK→ATL→LHR    Morning            Delta  ...   \n",
       "4               0           425      JFK→LHR      Night  British Airways  ...   \n",
       "6               0           745  JFK→ATL→LHR  Afternoon            Delta  ...   \n",
       "\n",
       "   In_Day_Of_Month  In_Day_Of_Week In_Is_Weekend  In_Duration  In_Route  \\\n",
       "0                8        Thursday             0          475   LHR→JFK   \n",
       "1                8        Thursday             0          490   LHR→JFK   \n",
       "3                8        Thursday             0          490   LHR→JFK   \n",
       "4                8        Thursday             0          470   LHR→JFK   \n",
       "6                8        Thursday             0          490   LHR→JFK   \n",
       "\n",
       "   In_Time                                      Out_ID  \\\n",
       "0  Evening  12712-2010012130--32222-0-13554-2010020935   \n",
       "1  Morning  12712-2010011930--32677-1-13554-2010021040   \n",
       "3  Morning  12712-2010010830--31697-1-13554-2010020825   \n",
       "4  Morning  12712-2010012130--32317-0-13554-2010020935   \n",
       "6  Morning  12712-2010011500--31697-1-13554-2010020825   \n",
       "\n",
       "                                        In_ID  \\\n",
       "0  13554-2010082015--32132-0-12712-2010082310   \n",
       "1  13554-2010081020--32132-0-12712-2010081330   \n",
       "3  13554-2010081020--31697-0-12712-2010081330   \n",
       "4  13554-2010081045--32222-0-12712-2010081335   \n",
       "6  13554-2010081020--31697-0-12712-2010081330   \n",
       "\n",
       "                                          Buying_Url    Price  \n",
       "0  https://partners.api.skyscanner.net/apiservice...  1443.20  \n",
       "1  https://partners.api.skyscanner.net/apiservice...  1248.80  \n",
       "3  https://partners.api.skyscanner.net/apiservice...  1234.25  \n",
       "4  https://partners.api.skyscanner.net/apiservice...  1281.00  \n",
       "6  https://partners.api.skyscanner.net/apiservice...  1234.25  \n",
       "\n",
       "[5 rows x 21 columns]"
      ]
     },
     "execution_count": 22,
     "metadata": {},
     "output_type": "execute_result"
    }
   ],
   "source": [
    "train_set.head()"
   ]
  },
  {
   "cell_type": "markdown",
   "metadata": {},
   "source": [
    "Who's running the most flights between JFK and Heathrow Airport? Why don't we take a quick look."
   ]
  },
  {
   "cell_type": "code",
   "execution_count": 23,
   "metadata": {},
   "outputs": [
    {
     "data": {
      "image/png": "[encoded data removed]",
      "text/plain": [
       "<Figure size 1080x720 with 1 Axes>"
      ]
     },
     "metadata": {
      "needs_background": "light"
     },
     "output_type": "display_data"
    }
   ],
   "source": [
    "plt.figure(figsize = (15, 10))\n",
    "plt.title('Flights Per Airlines', fontsize = 25)\n",
    "\n",
    "ax = sns.countplot(x = 'Out_Airline', data = train_set)\n",
    "\n",
    "plt.xlabel('Airline', fontsize = 20)\n",
    "plt.xticks(rotation = 90)\n",
    "plt.ylabel('Count of flights', fontsize = 20)\n",
    "\n",
    "for p in ax.patches:\n",
    "    ax.annotate(int(p.get_height()),\n",
    "                (p.get_x(), p.get_height()+1),\n",
    "                va='bottom',\n",
    "                color= 'black')"
   ]
  },
  {
   "cell_type": "markdown",
   "metadata": {},
   "source": [
    "And, not very surprisingly, British Airways, Virgin Atlantic (a British airline in itself), and American Airways are in the lead.\n",
    "Let's see the distribution of the prices over the airlines"
   ]
  },
  {
   "cell_type": "code",
   "execution_count": 24,
   "metadata": {},
   "outputs": [
    {
     "data": {
      "image/png": "[encoded data removed]",
      "text/plain": [
       "<Figure size 1080x360 with 1 Axes>"
      ]
     },
     "metadata": {
      "needs_background": "light"
     },
     "output_type": "display_data"
    }
   ],
   "source": [
    "sns.catplot(y = 'Price', x ='Out_Airline',\n",
    "            data = train_set.sort_values('Price',ascending=False),\n",
    "            kind='boxen',\n",
    "            height=5,\n",
    "            aspect=3)\n",
    "\n",
    "plt.title('Price VS Outbound Airlines', fontsize = 25)\n",
    "\n",
    "plt.xlabel('Airline', fontsize = 20)\n",
    "plt.xticks(rotation = 90)\n",
    "plt.ylabel('Price of Ticket', fontsize = 20)\n",
    "\n",
    "plt.show()"
   ]
  },
  {
   "cell_type": "markdown",
   "metadata": {},
   "source": [
    "It would seem that on the outbound flights the only airlines that are extremely overpriced are Qatar Airways and American Airlines."
   ]
  },
  {
   "cell_type": "code",
   "execution_count": 25,
   "metadata": {},
   "outputs": [
    {
     "data": {
      "image/png": "[encoded data removed]",
      "text/plain": [
       "<Figure size 1080x360 with 1 Axes>"
      ]
     },
     "metadata": {
      "needs_background": "light"
     },
     "output_type": "display_data"
    }
   ],
   "source": [
    "sns.catplot(y = 'Price', x = 'In_Airline',\n",
    "            data = train_set.sort_values('Price', ascending=False),\n",
    "            kind='boxen',\n",
    "            height=5,\n",
    "            aspect=3)\n",
    "\n",
    "plt.title('Price VS Inbound Airlines', fontsize = 25)\n",
    "\n",
    "plt.xlabel('Airline', fontsize = 20)\n",
    "plt.xticks(rotation = 90)\n",
    "plt.ylabel('Price of Ticket', fontsize = 20)\n",
    "\n",
    "plt.show()\n"
   ]
  },
  {
   "cell_type": "markdown",
   "metadata": {},
   "source": [
    "It's clear that on the inbound flights there are a lot more airlines that are charging high prices, though it might just be because the round trip includes the first leg which is very expensive, whereas coming back is fairly cheap for all these airlines that appear on the left side of the plot.  "
   ]
  },
  {
   "cell_type": "markdown",
   "metadata": {},
   "source": [
    "### Encoding Categorical Attributes\n",
    "It's important to turn all the categorical features into numbers, as preperation for model training. \n",
    "We'll start by taking down all the added information that isn't necessary for the models, as well as droping the price from the training set"
   ]
  },
  {
   "cell_type": "code",
   "execution_count": 26,
   "metadata": {},
   "outputs": [
    {
     "data": {
      "text/plain": [
       "Index(['index', 'Out_Airline', 'Out_Month', 'Out_Day_Of_Month',\n",
       "       'Out_Day_Of_Week', 'Out_Is_Weekend', 'Out_Duration', 'Out_Route',\n",
       "       'Out_Time', 'In_Airline', 'In_Month', 'In_Day_Of_Month',\n",
       "       'In_Day_Of_Week', 'In_Is_Weekend', 'In_Duration', 'In_Route', 'In_Time',\n",
       "       'Out_ID', 'In_ID', 'Buying_Url', 'Price'],\n",
       "      dtype='object')"
      ]
     },
     "execution_count": 26,
     "metadata": {},
     "output_type": "execute_result"
    }
   ],
   "source": [
    "train_set.columns"
   ]
  },
  {
   "cell_type": "code",
   "execution_count": 27,
   "metadata": {},
   "outputs": [
    {
     "name": "stdout",
     "output_type": "stream",
     "text": [
      "<class 'pandas.core.frame.DataFrame'>\n",
      "Int64Index: 21334 entries, 2 to 106661\n",
      "Data columns (total 18 columns):\n",
      " #   Column            Non-Null Count  Dtype  \n",
      "---  ------            --------------  -----  \n",
      " 0   index             21334 non-null  int64  \n",
      " 1   Out_Airline       21334 non-null  object \n",
      " 2   Out_Month         21334 non-null  int64  \n",
      " 3   Out_Day_Of_Month  21334 non-null  int64  \n",
      " 4   Out_Day_Of_Week   21334 non-null  object \n",
      " 5   Out_Is_Weekend    21334 non-null  int64  \n",
      " 6   Out_Duration      21334 non-null  int64  \n",
      " 7   Out_Route         21334 non-null  object \n",
      " 8   Out_Time          21334 non-null  object \n",
      " 9   In_Airline        21334 non-null  object \n",
      " 10  In_Month          21334 non-null  int64  \n",
      " 11  In_Day_Of_Month   21334 non-null  int64  \n",
      " 12  In_Day_Of_Week    21334 non-null  object \n",
      " 13  In_Is_Weekend     21334 non-null  int64  \n",
      " 14  In_Duration       21334 non-null  int64  \n",
      " 15  In_Route          21334 non-null  object \n",
      " 16  In_Time           21334 non-null  object \n",
      " 17  Price             21334 non-null  float64\n",
      "dtypes: float64(1), int64(9), object(8)\n",
      "memory usage: 3.1+ MB\n"
     ]
    }
   ],
   "source": [
    "def drop_irrelevant_attribs(df):\n",
    "    return df.drop(columns=['Out_ID','In_ID','Buying_Url'])\n",
    "\n",
    "#drop price and non-important features in train set\n",
    "train_set_to_encode = drop_irrelevant_attribs(train_set)\n",
    "train_set_to_encode = train_set_to_encode.drop(columns = ['Price'])\n",
    "\n",
    "#drop non-important features in train set\n",
    "test_set_to_encode = drop_irrelevant_attribs(test_set)\n",
    "\n",
    "test_set_to_encode.info()"
   ]
  },
  {
   "cell_type": "markdown",
   "metadata": {},
   "source": [
    "With the help of a label encoder, we'll convert all our categorical features to be numerical"
   ]
  },
  {
   "cell_type": "code",
   "execution_count": 28,
   "metadata": {},
   "outputs": [
    {
     "data": {
      "text/html": [
       "<div>\n",
       "<style scoped>\n",
       "    .dataframe tbody tr th:only-of-type {\n",
       "        vertical-align: middle;\n",
       "    }\n",
       "\n",
       "    .dataframe tbody tr th {\n",
       "        vertical-align: top;\n",
       "    }\n",
       "\n",
       "    .dataframe thead th {\n",
       "        text-align: right;\n",
       "    }\n",
       "</style>\n",
       "<table border=\"1\" class=\"dataframe\">\n",
       "  <thead>\n",
       "    <tr style=\"text-align: right;\">\n",
       "      <th></th>\n",
       "      <th>Out_Airline</th>\n",
       "      <th>Out_Day_Of_Week</th>\n",
       "      <th>Out_Route</th>\n",
       "      <th>Out_Time</th>\n",
       "      <th>In_Airline</th>\n",
       "      <th>In_Day_Of_Week</th>\n",
       "      <th>In_Route</th>\n",
       "      <th>In_Time</th>\n",
       "    </tr>\n",
       "  </thead>\n",
       "  <tbody>\n",
       "    <tr>\n",
       "      <th>0</th>\n",
       "      <td>British Airways</td>\n",
       "      <td>Thursday</td>\n",
       "      <td>JFK→LHR</td>\n",
       "      <td>Night</td>\n",
       "      <td>Virgin Atlantic</td>\n",
       "      <td>Thursday</td>\n",
       "      <td>LHR→JFK</td>\n",
       "      <td>Evening</td>\n",
       "    </tr>\n",
       "    <tr>\n",
       "      <th>1</th>\n",
       "      <td>Air France</td>\n",
       "      <td>Thursday</td>\n",
       "      <td>JFK→CDG→LHR</td>\n",
       "      <td>Evening</td>\n",
       "      <td>Delta</td>\n",
       "      <td>Thursday</td>\n",
       "      <td>LHR→JFK</td>\n",
       "      <td>Morning</td>\n",
       "    </tr>\n",
       "    <tr>\n",
       "      <th>3</th>\n",
       "      <td>Delta</td>\n",
       "      <td>Thursday</td>\n",
       "      <td>JFK→ATL→LHR</td>\n",
       "      <td>Morning</td>\n",
       "      <td>Delta</td>\n",
       "      <td>Thursday</td>\n",
       "      <td>LHR→JFK</td>\n",
       "      <td>Morning</td>\n",
       "    </tr>\n",
       "    <tr>\n",
       "      <th>4</th>\n",
       "      <td>British Airways</td>\n",
       "      <td>Thursday</td>\n",
       "      <td>JFK→LHR</td>\n",
       "      <td>Night</td>\n",
       "      <td>British Airways</td>\n",
       "      <td>Thursday</td>\n",
       "      <td>LHR→JFK</td>\n",
       "      <td>Morning</td>\n",
       "    </tr>\n",
       "    <tr>\n",
       "      <th>6</th>\n",
       "      <td>Delta</td>\n",
       "      <td>Thursday</td>\n",
       "      <td>JFK→ATL→LHR</td>\n",
       "      <td>Afternoon</td>\n",
       "      <td>Delta</td>\n",
       "      <td>Thursday</td>\n",
       "      <td>LHR→JFK</td>\n",
       "      <td>Morning</td>\n",
       "    </tr>\n",
       "  </tbody>\n",
       "</table>\n",
       "</div>"
      ],
      "text/plain": [
       "       Out_Airline Out_Day_Of_Week    Out_Route   Out_Time       In_Airline  \\\n",
       "0  British Airways        Thursday      JFK→LHR      Night  Virgin Atlantic   \n",
       "1       Air France        Thursday  JFK→CDG→LHR    Evening            Delta   \n",
       "3            Delta        Thursday  JFK→ATL→LHR    Morning            Delta   \n",
       "4  British Airways        Thursday      JFK→LHR      Night  British Airways   \n",
       "6            Delta        Thursday  JFK→ATL→LHR  Afternoon            Delta   \n",
       "\n",
       "  In_Day_Of_Week In_Route  In_Time  \n",
       "0       Thursday  LHR→JFK  Evening  \n",
       "1       Thursday  LHR→JFK  Morning  \n",
       "3       Thursday  LHR→JFK  Morning  \n",
       "4       Thursday  LHR→JFK  Morning  \n",
       "6       Thursday  LHR→JFK  Morning  "
      ]
     },
     "execution_count": 28,
     "metadata": {},
     "output_type": "execute_result"
    }
   ],
   "source": [
    "from sklearn.preprocessing import LabelEncoder\n",
    "le = LabelEncoder()\n",
    "\n",
    "numerical_types = ['int64','float64']\n",
    "\n",
    "train_categorical_data = train_set_to_encode.select_dtypes(exclude=numerical_types)\n",
    "train_numerical_data = train_set_to_encode.select_dtypes(include=numerical_types)\n",
    "\n",
    "test_categorical_data = test_set_to_encode.select_dtypes(exclude=numerical_types)\n",
    "test_numerical_data  = test_set_to_encode.select_dtypes(include=numerical_types)\n",
    "\n",
    "\n",
    "train_categorical_data.head()"
   ]
  },
  {
   "cell_type": "code",
   "execution_count": 29,
   "metadata": {},
   "outputs": [],
   "source": [
    "train_categorical_data = train_categorical_data.apply(LabelEncoder().fit_transform)\n",
    "test_categorical_data = test_categorical_data.apply(LabelEncoder().fit_transform)"
   ]
  },
  {
   "cell_type": "code",
   "execution_count": 30,
   "metadata": {},
   "outputs": [
    {
     "data": {
      "text/html": [
       "<div>\n",
       "<style scoped>\n",
       "    .dataframe tbody tr th:only-of-type {\n",
       "        vertical-align: middle;\n",
       "    }\n",
       "\n",
       "    .dataframe tbody tr th {\n",
       "        vertical-align: top;\n",
       "    }\n",
       "\n",
       "    .dataframe thead th {\n",
       "        text-align: right;\n",
       "    }\n",
       "</style>\n",
       "<table border=\"1\" class=\"dataframe\">\n",
       "  <thead>\n",
       "    <tr style=\"text-align: right;\">\n",
       "      <th></th>\n",
       "      <th>Out_Airline</th>\n",
       "      <th>Out_Day_Of_Week</th>\n",
       "      <th>Out_Route</th>\n",
       "      <th>Out_Time</th>\n",
       "      <th>In_Airline</th>\n",
       "      <th>In_Day_Of_Week</th>\n",
       "      <th>In_Route</th>\n",
       "      <th>In_Time</th>\n",
       "    </tr>\n",
       "  </thead>\n",
       "  <tbody>\n",
       "    <tr>\n",
       "      <th>0</th>\n",
       "      <td>9</td>\n",
       "      <td>4</td>\n",
       "      <td>56</td>\n",
       "      <td>3</td>\n",
       "      <td>32</td>\n",
       "      <td>4</td>\n",
       "      <td>50</td>\n",
       "      <td>1</td>\n",
       "    </tr>\n",
       "    <tr>\n",
       "      <th>1</th>\n",
       "      <td>4</td>\n",
       "      <td>4</td>\n",
       "      <td>22</td>\n",
       "      <td>1</td>\n",
       "      <td>11</td>\n",
       "      <td>4</td>\n",
       "      <td>50</td>\n",
       "      <td>2</td>\n",
       "    </tr>\n",
       "    <tr>\n",
       "      <th>3</th>\n",
       "      <td>13</td>\n",
       "      <td>4</td>\n",
       "      <td>3</td>\n",
       "      <td>2</td>\n",
       "      <td>11</td>\n",
       "      <td>4</td>\n",
       "      <td>50</td>\n",
       "      <td>2</td>\n",
       "    </tr>\n",
       "    <tr>\n",
       "      <th>4</th>\n",
       "      <td>9</td>\n",
       "      <td>4</td>\n",
       "      <td>56</td>\n",
       "      <td>3</td>\n",
       "      <td>9</td>\n",
       "      <td>4</td>\n",
       "      <td>50</td>\n",
       "      <td>2</td>\n",
       "    </tr>\n",
       "    <tr>\n",
       "      <th>6</th>\n",
       "      <td>13</td>\n",
       "      <td>4</td>\n",
       "      <td>3</td>\n",
       "      <td>0</td>\n",
       "      <td>11</td>\n",
       "      <td>4</td>\n",
       "      <td>50</td>\n",
       "      <td>2</td>\n",
       "    </tr>\n",
       "  </tbody>\n",
       "</table>\n",
       "</div>"
      ],
      "text/plain": [
       "   Out_Airline  Out_Day_Of_Week  Out_Route  Out_Time  In_Airline  \\\n",
       "0            9                4         56         3          32   \n",
       "1            4                4         22         1          11   \n",
       "3           13                4          3         2          11   \n",
       "4            9                4         56         3           9   \n",
       "6           13                4          3         0          11   \n",
       "\n",
       "   In_Day_Of_Week  In_Route  In_Time  \n",
       "0               4        50        1  \n",
       "1               4        50        2  \n",
       "3               4        50        2  \n",
       "4               4        50        2  \n",
       "6               4        50        2  "
      ]
     },
     "execution_count": 30,
     "metadata": {},
     "output_type": "execute_result"
    }
   ],
   "source": [
    "train_categorical_data.head()"
   ]
  },
  {
   "cell_type": "markdown",
   "metadata": {},
   "source": [
    "##### Concatenate Catagorical and Numerical Data"
   ]
  },
  {
   "cell_type": "code",
   "execution_count": 31,
   "metadata": {},
   "outputs": [],
   "source": [
    "X = pd.concat([train_categorical_data, train_numerical_data], axis=1)\n",
    "y = train_set['Price']\n",
    "\n",
    "test_set = pd.concat([test_categorical_data, test_numerical_data], axis=1)"
   ]
  },
  {
   "cell_type": "markdown",
   "metadata": {},
   "source": [
    "Let's have a quick look at the correlation between the features that are left."
   ]
  },
  {
   "cell_type": "code",
   "execution_count": 32,
   "metadata": {},
   "outputs": [
    {
     "data": {
      "image/png": "[encoded data removed]",
      "text/plain": [
       "<Figure size 720x720 with 2 Axes>"
      ]
     },
     "metadata": {
      "needs_background": "light"
     },
     "output_type": "display_data"
    }
   ],
   "source": [
    "plt.figure(figsize=(10, 10))\n",
    "hm = sns.heatmap(pd.concat([X,y], axis=1).corr(),\n",
    "                 vmax=1, vmin=-1, cmap=\"bwr\",\n",
    "                 square=True, annot=True,\n",
    "                 fmt='.2f', annot_kws={'size': 7})"
   ]
  },
  {
   "cell_type": "markdown",
   "metadata": {},
   "source": [
    "From the matrix we see that there is total correlation between :\n",
    "* The day of the week (sun-sat) of the outbound flight (Out_Day_Of_Week) and the inbound flight (In_Day_Of_Week). This makes sense, as the request we made from Skyscanner was for a trip of exactly 7 days. \n",
    "\n",
    "* If the outbound flight is on a weekend (Out_Is_Weekend), then the inbound flight will also be on a weekend (In_Is_Weekend), and vice versa. Once again, that correlation is an immediate outcome of our request for a round trip of 7 days.\n",
    "\n",
    "Besides those two pairs, all the other features seem to have low correlation with any feature aside themselves.\n",
    "<br>As a result of our findings, we'll drop the 'In_Day_Of_Week' feature, as well as 'In_Is_Weekend' feature."
   ]
  },
  {
   "cell_type": "code",
   "execution_count": 33,
   "metadata": {},
   "outputs": [],
   "source": [
    "def drop_corrolated(df):\n",
    "    return df.drop(columns=['In_Day_Of_Week','In_Is_Weekend'])\n",
    "\n",
    "X = drop_corrolated(X)\n",
    "test_set = drop_corrolated(test_set)"
   ]
  },
  {
   "cell_type": "markdown",
   "metadata": {},
   "source": [
    "##### Feature scaling"
   ]
  },
  {
   "cell_type": "markdown",
   "metadata": {},
   "source": [
    "Most of ML algorithms don’t perform well when the input numerical attributes have very different scales. As a result, we need to get all attributes to have the same scale. We'll take the standardization method."
   ]
  },
  {
   "cell_type": "code",
   "execution_count": 34,
   "metadata": {},
   "outputs": [],
   "source": [
    "from sklearn.preprocessing import StandardScaler\n",
    "scaler = StandardScaler()\n",
    "\n",
    "# transform data\n",
    "X_scaled= pd.DataFrame(scaler.fit_transform(X))\n",
    "\n",
    "X_test_scaled = pd.DataFrame(scaler.fit_transform(test_set.drop('Price', axis = 1)))\n",
    "y_test = test_set['Price']"
   ]
  },
  {
   "cell_type": "markdown",
   "metadata": {},
   "source": [
    "# Shortlisting Promising Models\n"
   ]
  },
  {
   "cell_type": "markdown",
   "metadata": {},
   "source": [
    "\n",
    "We'll start with the basic *linear regression* model, and see how well it performs.\n",
    "<br>Then we'll move on to try out some more sophisticated models, in attempt to find a promising model."
   ]
  },
  {
   "cell_type": "code",
   "execution_count": 54,
   "metadata": {},
   "outputs": [],
   "source": [
    "from sklearn.linear_model import LinearRegression\n",
    "\n",
    "lin_reg = LinearRegression(normalize=True)\n",
    "my_m =lin_reg.fit(X_scaled,y)"
   ]
  },
  {
   "cell_type": "markdown",
   "metadata": {},
   "source": [
    "Let's evaluate the model by checking out it's score on the training data"
   ]
  },
  {
   "cell_type": "code",
   "execution_count": 55,
   "metadata": {},
   "outputs": [
    {
     "data": {
      "text/plain": [
       "0.10930685508626724"
      ]
     },
     "execution_count": 55,
     "metadata": {},
     "output_type": "execute_result"
    }
   ],
   "source": [
    "lin_reg.score(X_scaled,y)"
   ]
  },
  {
   "cell_type": "markdown",
   "metadata": {},
   "source": [
    "Terriable. Just terriable. The R^2 here is just a bit over 10% which is very low for a predicting model. Only a tenth of the flight prices are predicted correctly!\n",
    "<br>Let's approach this problem from a slightly different direction. We'll have a go with the Decision Tree and Random Forest method."
   ]
  },
  {
   "cell_type": "code",
   "execution_count": 56,
   "metadata": {},
   "outputs": [
    {
     "data": {
      "text/plain": [
       "DecisionTreeRegressor(ccp_alpha=0.0, criterion='mse', max_depth=14,\n",
       "                      max_features=None, max_leaf_nodes=None,\n",
       "                      min_impurity_decrease=0.0, min_impurity_split=None,\n",
       "                      min_samples_leaf=1, min_samples_split=2,\n",
       "                      min_weight_fraction_leaf=0.0, presort='deprecated',\n",
       "                      random_state=None, splitter='best')"
      ]
     },
     "execution_count": 56,
     "metadata": {},
     "output_type": "execute_result"
    }
   ],
   "source": [
    "from sklearn.tree import DecisionTreeRegressor\n",
    "\n",
    "# Build decision tree\n",
    "dtree_reg = DecisionTreeRegressor(max_depth = 14)\n",
    "dtree_reg.fit(X_scaled,y)\n"
   ]
  },
  {
   "cell_type": "code",
   "execution_count": 57,
   "metadata": {},
   "outputs": [
    {
     "data": {
      "text/plain": [
       "0.8000791024442233"
      ]
     },
     "execution_count": 57,
     "metadata": {},
     "output_type": "execute_result"
    }
   ],
   "source": [
    "dtree_reg.score(X_scaled,y)"
   ]
  },
  {
   "cell_type": "markdown",
   "metadata": {},
   "source": [
    "Already a great improvement. Perhaps the Random Forest method will give better results, as it works better with non-linear data and is less likely to overfit .  "
   ]
  },
  {
   "cell_type": "code",
   "execution_count": 88,
   "metadata": {},
   "outputs": [
    {
     "data": {
      "text/plain": [
       "RandomForestRegressor(bootstrap=True, ccp_alpha=0.0, criterion='mse',\n",
       "                      max_depth=14, max_features='auto', max_leaf_nodes=None,\n",
       "                      max_samples=None, min_impurity_decrease=0.0,\n",
       "                      min_impurity_split=None, min_samples_leaf=1,\n",
       "                      min_samples_split=2, min_weight_fraction_leaf=0.0,\n",
       "                      n_estimators=100, n_jobs=-1, oob_score=False,\n",
       "                      random_state=None, verbose=0, warm_start=False)"
      ]
     },
     "execution_count": 88,
     "metadata": {},
     "output_type": "execute_result"
    }
   ],
   "source": [
    "from sklearn.ensemble import RandomForestRegressor\n",
    "forest_reg = RandomForestRegressor(\n",
    "                                    n_estimators=100,\n",
    "                                    max_depth=14,\n",
    "                                    criterion='mse',\n",
    "                                    n_jobs=-1)\n",
    "forest_reg.fit(X_scaled,y)"
   ]
  },
  {
   "cell_type": "code",
   "execution_count": 89,
   "metadata": {
    "scrolled": true
   },
   "outputs": [
    {
     "data": {
      "text/plain": [
       "0.8819567299088823"
      ]
     },
     "execution_count": 89,
     "metadata": {},
     "output_type": "execute_result"
    }
   ],
   "source": [
    "forest_reg.score(X_scaled,y)"
   ]
  },
  {
   "cell_type": "markdown",
   "metadata": {},
   "source": [
    "This seems way better! With 88% of the variance explained, looks like we've made a great improvement.  \n",
    "Let's check out one more model - the Extreme Gradient Boosting method."
   ]
  },
  {
   "cell_type": "code",
   "execution_count": 90,
   "metadata": {},
   "outputs": [
    {
     "data": {
      "text/plain": [
       "XGBRegressor(base_score=0.5, booster='gbtree', colsample_bylevel=1,\n",
       "             colsample_bynode=1, colsample_bytree=1, gamma=0, gpu_id=-1,\n",
       "             importance_type='gain', interaction_constraints='',\n",
       "             learning_rate=0.300000012, max_delta_step=0, max_depth=6,\n",
       "             min_child_weight=1, missing=nan, monotone_constraints='()',\n",
       "             n_estimators=100, n_jobs=0, num_parallel_tree=1,\n",
       "             objective='reg:squarederror', random_state=0, reg_alpha=0,\n",
       "             reg_lambda=1, scale_pos_weight=1, subsample=1, tree_method='exact',\n",
       "             validate_parameters=1, verbosity=None)"
      ]
     },
     "execution_count": 90,
     "metadata": {},
     "output_type": "execute_result"
    }
   ],
   "source": [
    "from xgboost import XGBRegressor\n",
    "xgb_reg = XGBRegressor()\n",
    "xgb_reg.fit(X_scaled, y)"
   ]
  },
  {
   "cell_type": "code",
   "execution_count": 91,
   "metadata": {},
   "outputs": [
    {
     "data": {
      "text/plain": [
       "0.8761675253670511"
      ]
     },
     "execution_count": 91,
     "metadata": {},
     "output_type": "execute_result"
    }
   ],
   "source": [
    "xgb_reg.score(X_scaled,y)"
   ]
  },
  {
   "cell_type": "markdown",
   "metadata": {},
   "source": [
    "After looking at the scores of each one of the models when applied to the whole training set, it would be wise to try and get a better evaluation using K-fold cross validation. (We'll leave out the linear regression as it had very poor results.)\n",
    "\n"
   ]
  },
  {
   "cell_type": "code",
   "execution_count": 92,
   "metadata": {},
   "outputs": [],
   "source": [
    "from sklearn.model_selection import cross_val_score\n",
    "\n",
    "DT_accuracies = cross_val_score(estimator = dtree_reg, X = X_scaled, y = y, cv = 10)\n",
    "RF_accuracies = cross_val_score(estimator = forest_reg, X = X_scaled, y = y, cv = 10)\n",
    "XGB_accuracies = cross_val_score(estimator = xgb_reg, X = X_scaled, y = y, cv = 10)"
   ]
  },
  {
   "cell_type": "code",
   "execution_count": 93,
   "metadata": {},
   "outputs": [
    {
     "name": "stdout",
     "output_type": "stream",
     "text": [
      "Mean_DT_Acc:  0.4567463105159115\n",
      "Mean_RF_Acc:  0.6618678973795753\n",
      "Mean_XGB_Acc:  0.6481671844933328\n"
     ]
    }
   ],
   "source": [
    "print(\"Mean_DT_Acc: \", DT_accuracies.mean())\n",
    "print(\"Mean_RF_Acc: \", RF_accuracies.mean()) \n",
    "print(\"Mean_XGB_Acc: \", XGB_accuracies.mean())"
   ]
  },
  {
   "cell_type": "markdown",
   "metadata": {},
   "source": [
    "Looks like the Random Forest model does a better job than the other models, both on the k-folds and on the training set as a whole. Though XGB seems to have some pretty good performances, too.<br>\n",
    "In that case, I think taking the Random Forest model to the next stage would be wisest."
   ]
  },
  {
   "cell_type": "markdown",
   "metadata": {},
   "source": [
    "# Fine-Tuning the System"
   ]
  },
  {
   "cell_type": "markdown",
   "metadata": {},
   "source": [
    "We'll run a grid search to find the best paramaters for the Random Forest regressor that we've seen above."
   ]
  },
  {
   "cell_type": "markdown",
   "metadata": {},
   "source": [
    "The main paramaters are:\n",
    "* n_estimators: The number of trees in the forest that will be built before taking the averages of predictions. The more trees the  better the performance (at the cost of speed)\n",
    "* max_depth: The maximum number of levels in each decision tree.  This can be used as one of the stopping criteria for the growth of a tree. \n",
    "* min_sample_leaf: The minimum data points allowed in a a leaf node.\n",
    "* max_features: The maximum number of features Random Forest is allowed to try in individual tree. Increasing this value sometimes improves the performance, since each node has higher number of options to be considered. But it can also worsen the performance, as it decreases the diversity of the individual tree."
   ]
  },
  {
   "cell_type": "code",
   "execution_count": 275,
   "metadata": {},
   "outputs": [
    {
     "name": "stdout",
     "output_type": "stream",
     "text": [
      "GridSearchCV(cv=5, error_score=nan,\n",
      "             estimator=RandomForestRegressor(bootstrap=True, ccp_alpha=0.0,\n",
      "                                             criterion='mse', max_depth=None,\n",
      "                                             max_features='auto',\n",
      "                                             max_leaf_nodes=None,\n",
      "                                             max_samples=None,\n",
      "                                             min_impurity_decrease=0.0,\n",
      "                                             min_impurity_split=None,\n",
      "                                             min_samples_leaf=1,\n",
      "                                             min_samples_split=2,\n",
      "                                             min_weight_fraction_leaf=0.0,\n",
      "                                             n_estimators=100, n_jobs=-1,\n",
      "                                             oob_score=False, random_state=None,\n",
      "                                             verbose=0, warm_start=False),\n",
      "             iid='deprecated', n_jobs=None,\n",
      "             param_grid=[{'max_depth': [2,4,6,8,10,12,14], \n",
      "                          'max_features': [1,2,3,4,5,6,7,8,9,10,11,12,13,14],\n",
      "                          'min_samples_leaf': [1,2,4],\n",
      "                          'n_estimators': range(50, 400, 35)}],\n",
      "             pre_dispatch='2*n_jobs', refit=True, return_train_score=False,\n",
      "             scoring='neg_mean_squared_error', verbose=0)\n"
     ]
    }
   ],
   "source": [
    "from sklearn.model_selection import GridSearchCV\n",
    "\n",
    "param_grid1 = [{'n_estimators': range(50, 400, 25),\n",
    "                'max_depth':[2,4,6,8,10,12,14],\n",
    "                'min_samples_leaf': [1,2,4],\n",
    "                'max_features':[1,2,3,4,5,6,7,8,9,10,11,12,13,14]}]\n",
    "forest_reg1 = RandomForestRegressor(n_jobs=-1)\n",
    "\n",
    "grid_search1 = GridSearchCV(forest_reg1, param_grid1, cv=5, scoring='neg_mean_squared_error')\n",
    "grid_search1.fit(X_scaled,y)"
   ]
  },
  {
   "cell_type": "code",
   "execution_count": 276,
   "metadata": {},
   "outputs": [
    {
     "name": "stdout",
     "output_type": "stream",
     "text": [
      "Best Parameters: {'max_depth': 12, 'max_features': 11, 'min_samples_leaf': 4, 'n_estimators': 365}\n"
     ]
    }
   ],
   "source": [
    "print(\"Best Parameters:\", grid_search1.best_params_)"
   ]
  },
  {
   "cell_type": "code",
   "execution_count": 94,
   "metadata": {},
   "outputs": [],
   "source": [
    "import pickle\n",
    "# save the model for when I do a rerun of the notebook. \n",
    "\n",
    "filename = 'final_RF_model.sav'\n",
    "# pickle.dump(grid_search1.best_estimator_, open(filename, 'wb'))\n",
    "\n",
    "final_model = pickle.load(open(filename, 'rb'))"
   ]
  },
  {
   "cell_type": "markdown",
   "metadata": {},
   "source": [
    "After running this grid search for almost 2 days, it finally came to an end. Phew!<br>\n",
    "Perhaps I should have ran it on a few less paramaters, or maybe approched from a different angle, such as using a Bayesian\n",
    "optimization approach...<br>\n",
    "Nonetheless, we have finished fine-tuning our model. Let's take a look at the results. "
   ]
  },
  {
   "cell_type": "code",
   "execution_count": 95,
   "metadata": {},
   "outputs": [
    {
     "name": "stdout",
     "output_type": "stream",
     "text": [
      "0.9186904636766052\n"
     ]
    }
   ],
   "source": [
    "final_model.score(X_scaled,y)"
   ]
  },
  {
   "cell_type": "markdown",
   "metadata": {},
   "source": [
    "Wow! 92% to predict the price correctly. Definitly better than our original Random Forest model that got it right only for 87% of the flights. Let's have a go with the K-fold cross validation, just to make sure we're on the right track, with no terrible case of overfitting: "
   ]
  },
  {
   "cell_type": "code",
   "execution_count": 96,
   "metadata": {},
   "outputs": [
    {
     "name": "stdout",
     "output_type": "stream",
     "text": [
      "Mean_Final_Acc :  0.8678174083224952\n"
     ]
    }
   ],
   "source": [
    "from sklearn.model_selection import cross_val_score\n",
    "\n",
    "final_RF_accuracies = cross_val_score(estimator = final_model, X = X_scaled, y = y, cv = 10)\n",
    "print('Mean_Final_Acc : ', final_RF_accuracies.mean())"
   ]
  },
  {
   "cell_type": "markdown",
   "metadata": {},
   "source": [
    "Alright, looks pretty good. \n",
    "Time for testing it on our real test set!"
   ]
  },
  {
   "cell_type": "markdown",
   "metadata": {},
   "source": [
    "# Testing and Conclusions"
   ]
  },
  {
   "cell_type": "code",
   "execution_count": 97,
   "metadata": {},
   "outputs": [
    {
     "name": "stdout",
     "output_type": "stream",
     "text": [
      "Test set accuracy: 0.8401210573732107\n"
     ]
    }
   ],
   "source": [
    "test_score = final_model.score(X_test_scaled,y_test)\n",
    "print(\"Test set accuracy:\", test_score)"
   ]
  },
  {
   "cell_type": "markdown",
   "metadata": {},
   "source": [
    "Nice going. We could use some improvement, but let's settle with the 84% score as our final model for the meantime. <br>\n",
    "Let's try and learn a thing or two about the flights from JFK airport to Heathrow in London, by looking at the weights the model gave to the different features."
   ]
  },
  {
   "cell_type": "code",
   "execution_count": 98,
   "metadata": {},
   "outputs": [
    {
     "name": "stdout",
     "output_type": "stream",
     "text": [
      "[(0.37735011865565643, 'Out_Duration'),\n",
      " (0.20483495068671273, 'Out_Route'),\n",
      " (0.185361938604791, 'Out_Airline'),\n",
      " (0.07536607492274854, 'In_Airline'),\n",
      " (0.058093279011852665, 'In_Duration'),\n",
      " (0.03325896564441042, 'In_Route'),\n",
      " (0.03115224018987707, 'Out_Time'),\n",
      " (0.016177092781992926, 'Out_Day_Of_Week'),\n",
      " (0.011134877925422145, 'Out_Day_Of_Month'),\n",
      " (0.00887912339260591, 'In_Day_Of_Month'),\n",
      " (0.008627504218758466, 'Out_Month'),\n",
      " (0.006882687608549657, 'In_Time'),\n",
      " (0.0020301123411831895, 'In_Month'),\n",
      " (0.0013263374500094983, 'Out_Is_Weekend')]\n"
     ]
    }
   ],
   "source": [
    "feature_importances = final_model.feature_importances_\n",
    "sorted(zip(feature_importances, X.columns), reverse=True)"
   ]
  },
  {
   "cell_type": "markdown",
   "metadata": {},
   "source": [
    "Let's make a list of our findings:\n",
    "1. So, as expected, the duration of the outbound flight is the most important feature here and it affects the price the most.<br>\n",
    "2. The next important features are the route of the outbound flight, and the airline carriers flying both there and back.<br> It's interesting to see that the inbound flight affects the ticket price a lot less then the outbound flight. One would think they might have a similar weight, but hey, that's not what it looks like from our model!<br>\n",
    "3. Another noticable thing is that the weekends just barley affect the price. Guess we shouldn't be worried about flying during the weekends anymore.<br>\n",
    "4. In contrast, if we look at the other features we added during the exraction phase (the day of the week, the day of the month, and the month itself), we'll see that they weren't entirely useless, and they do have some sort of an impact. \n",
    "\n",
    "And there we have it - our initial goals have been completed.\n"
   ]
  },
  {
   "cell_type": "markdown",
   "metadata": {},
   "source": [
    "## Improvements for the Future"
   ]
  },
  {
   "cell_type": "markdown",
   "metadata": {},
   "source": [
    "There's always, but always, room to improve our model. Now that we've seen which features have less of an impact on the price, maybe we can get better results by removing some of them. I'd also like to try and test out some other types of models.  Another idea is to try and clean out some of the outliers and see how it affects our predictions and training time. And of course, to be constantly updating the data and expanding the model more and more. But all these ideas will have to wait for the moment..."
   ]
  },
  {
   "cell_type": "markdown",
   "metadata": {},
   "source": [
    "# Reflection"
   ]
  },
  {
   "cell_type": "markdown",
   "metadata": {},
   "source": [
    "I'm really glad I took this data science course. I learned a lot from it and it broadend my horizons greatly. At the beginning, I was a bit skeptical as to how much I'd gain from this project , but in truth, it's given me so much. From the basics of ticket pricing, to experimenting with differents APIs, to training and testing my very own model. I got to delve into the world of regression, understand how the Random Forests learning method works from all sides, and got a taste of some other ML algorithms as well. Though there were many ups and down along the way, I am satisified with the work that's been done and the results that have been achived. <br>\n",
    "I hope to learn more about the field in the future, and who knows, maybe even work in it some day. "
   ]
  }
 ],
 "metadata": {
  "kernelspec": {
   "display_name": "Python 3",
   "language": "python",
   "name": "python3"
  },
  "language_info": {
   "codemirror_mode": {
    "name": "ipython",
    "version": 3
   },
   "file_extension": ".py",
   "mimetype": "text/x-python",
   "name": "python",
   "nbconvert_exporter": "python",
   "pygments_lexer": "ipython3",
   "version": "3.7.6"
  }
 },
 "nbformat": 4,
 "nbformat_minor": 4
}
